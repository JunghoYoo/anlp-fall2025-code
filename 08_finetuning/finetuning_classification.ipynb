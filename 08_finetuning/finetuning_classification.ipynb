{
 "cells": [
  {
   "cell_type": "markdown",
   "metadata": {},
   "source": [
    "# Lecture 8: Fine-tuning for Classification\n",
    "\n",
    "Lecture 8 | CMU ANLP Fall 2025 | Instructor: Sean Welleck\n",
    "\n",
    "\n",
    "This notebook shows fine-tuning a language model with a classification head. \n",
    "\n",
    "Task: Given a name, predict how many vowels (a, e, i, o, u) it contains."
   ]
  },
  {
   "cell_type": "code",
   "execution_count": 1,
   "metadata": {},
   "outputs": [
    {
     "name": "stdout",
     "output_type": "stream",
     "text": [
      "Total names: 32033\n"
     ]
    },
    {
     "data": {
      "text/plain": [
       "['paityn',\n",
       " 'evalyn',\n",
       " 'luz',\n",
       " 'nathalia',\n",
       " 'winnie',\n",
       " 'chandler',\n",
       " 'ciara',\n",
       " 'danica',\n",
       " 'nailah',\n",
       " 'rilynn']"
      ]
     },
     "execution_count": 1,
     "metadata": {},
     "output_type": "execute_result"
    }
   ],
   "source": [
    "data = open('names.txt').read().splitlines()\n",
    "print(f\"Total names: {len(data)}\")\n",
    "data[1000:1010]"
   ]
  },
  {
   "cell_type": "markdown",
   "metadata": {},
   "source": [
    "## Count vowels in names"
   ]
  },
  {
   "cell_type": "code",
   "execution_count": 2,
   "metadata": {},
   "outputs": [
    {
     "name": "stdout",
     "output_type": "stream",
     "text": [
      "emma: 2 vowels\n",
      "olivia: 4 vowels\n",
      "charlotte: 3 vowels\n",
      "xyz: 0 vowels\n",
      "aaa: 3 vowels\n"
     ]
    }
   ],
   "source": [
    "def count_vowels(name):\n",
    "    \"\"\"Count the number of vowels in a name.\"\"\"\n",
    "    vowels = 'aeiou'\n",
    "    return sum(1 for char in name.lower() if char in vowels)\n",
    "\n",
    "# Test the function\n",
    "test_names = ['emma', 'olivia', 'charlotte', 'xyz', 'aaa']\n",
    "for name in test_names:\n",
    "    print(f\"{name}: {count_vowels(name)} vowels\")"
   ]
  },
  {
   "cell_type": "markdown",
   "metadata": {},
   "source": [
    "## Load the base model and tokenizer"
   ]
  },
  {
   "cell_type": "code",
   "execution_count": 3,
   "metadata": {},
   "outputs": [
    {
     "name": "stderr",
     "output_type": "stream",
     "text": [
      "/opt/miniconda3/envs/anlp/lib/python3.10/site-packages/tqdm/auto.py:21: TqdmWarning: IProgress not found. Please update jupyter and ipywidgets. See https://ipywidgets.readthedocs.io/en/stable/user_install.html\n",
      "  from .autonotebook import tqdm as notebook_tqdm\n",
      "The new embeddings will be initialized from a multivariate normal distribution that has old embeddings' mean and covariance. As described in this article: https://nlp.stanford.edu/~johnhew/vocab-expansion.html. To disable this, use `mean_resizing=False`\n"
     ]
    },
    {
     "name": "stdout",
     "output_type": "stream",
     "text": [
      "Model parameters: 134,516,160\n"
     ]
    }
   ],
   "source": [
    "import transformers\n",
    "import torch\n",
    "import torch.nn as nn\n",
    "from transformers import AutoTokenizer, AutoModelForCausalLM\n",
    "\n",
    "model_name = \"HuggingFaceTB/SmolLM2-135M\"\n",
    "\n",
    "tokenizer = AutoTokenizer.from_pretrained(model_name)\n",
    "base_model = AutoModelForCausalLM.from_pretrained(model_name)\n",
    "\n",
    "# Add special tokens\n",
    "tokenizer.add_special_tokens({\n",
    "    \"pad_token\": \"<|pad|>\",\n",
    "    \"bos_token\": \"<|startoftext|>\",\n",
    "})\n",
    "\n",
    "# Resize embeddings\n",
    "base_model.resize_token_embeddings(len(tokenizer))\n",
    "\n",
    "print(f\"Model parameters: {sum(p.numel() for p in base_model.parameters()):,}\")"
   ]
  },
  {
   "cell_type": "markdown",
   "metadata": {},
   "source": [
    "## Create dataset and dataloaders"
   ]
  },
  {
   "cell_type": "code",
   "execution_count": 4,
   "metadata": {},
   "outputs": [
    {
     "name": "stdout",
     "output_type": "stream",
     "text": [
      "Train: 25626, Dev: 3203, Test: 3204\n"
     ]
    },
    {
     "data": {
      "text/plain": [
       "{'input_ids': tensor([[49153, 44450,  1299,   337,     0, 49152],\n",
       "         [49153,   257,   101,  1241,     0, 49152],\n",
       "         [49153, 16427,   382,  5488,     0, 49152],\n",
       "         [49153,  1140,    81,     0, 49152, 49152],\n",
       "         [49153, 25616,   272,  1744,    94,     0],\n",
       "         [49153,  2432,  1437,     0, 49152, 49152],\n",
       "         [49153,  2292,    92,  1287,     0, 49152],\n",
       "         [49153,  7483,   903,     0, 49152, 49152],\n",
       "         [49153,    91,   576,   105,     0, 49152],\n",
       "         [49153,    83,  3231,     0, 49152, 49152],\n",
       "         [49153,    84,  1437, 18133,     0, 49152],\n",
       "         [49153,   105,   336,     0, 49152, 49152],\n",
       "         [49153,   322,  2889,   317,     0, 49152],\n",
       "         [49153,   106,  1951,  1905,    81,     0],\n",
       "         [49153,   344,  2554, 37602,     0, 49152],\n",
       "         [49153, 22258,  1437,     0, 49152, 49152],\n",
       "         [49153,    86,  9809,     0, 49152, 49152],\n",
       "         [49153,    99,  1287,   272,   519,     0],\n",
       "         [49153,   432,   672,  2292,     0, 49152],\n",
       "         [49153,    94,  1787,     0, 49152, 49152],\n",
       "         [49153,  1018,  1145,   257,     0, 49152],\n",
       "         [49153,    90,    88,  8026,  5488,     0],\n",
       "         [49153,   672,   369, 10945,     0, 49152],\n",
       "         [49153, 11074,   542,     0, 49152, 49152],\n",
       "         [49153, 12744,   541,     0, 49152, 49152],\n",
       "         [49153,  3804,   936,  1744,     0, 49152],\n",
       "         [49153,    99,  1145,  2554,     0, 49152],\n",
       "         [49153,    91,  2108,  1287,     0, 49152],\n",
       "         [49153,    90,  2231,   611,   292,     0],\n",
       "         [49153,   299,  1299,   306,     0, 49152],\n",
       "         [49153,    90,  1813,   258,     0, 49152],\n",
       "         [49153,   105,   721,   306,     0, 49152]]),\n",
       " 'attention_mask': tensor([[1, 1, 1, 1, 1, 0],\n",
       "         [1, 1, 1, 1, 1, 0],\n",
       "         [1, 1, 1, 1, 1, 0],\n",
       "         [1, 1, 1, 1, 0, 0],\n",
       "         [1, 1, 1, 1, 1, 1],\n",
       "         [1, 1, 1, 1, 0, 0],\n",
       "         [1, 1, 1, 1, 1, 0],\n",
       "         [1, 1, 1, 1, 0, 0],\n",
       "         [1, 1, 1, 1, 1, 0],\n",
       "         [1, 1, 1, 1, 0, 0],\n",
       "         [1, 1, 1, 1, 1, 0],\n",
       "         [1, 1, 1, 1, 0, 0],\n",
       "         [1, 1, 1, 1, 1, 0],\n",
       "         [1, 1, 1, 1, 1, 1],\n",
       "         [1, 1, 1, 1, 1, 0],\n",
       "         [1, 1, 1, 1, 0, 0],\n",
       "         [1, 1, 1, 1, 0, 0],\n",
       "         [1, 1, 1, 1, 1, 1],\n",
       "         [1, 1, 1, 1, 1, 0],\n",
       "         [1, 1, 1, 1, 0, 0],\n",
       "         [1, 1, 1, 1, 1, 0],\n",
       "         [1, 1, 1, 1, 1, 1],\n",
       "         [1, 1, 1, 1, 1, 0],\n",
       "         [1, 1, 1, 1, 0, 0],\n",
       "         [1, 1, 1, 1, 0, 0],\n",
       "         [1, 1, 1, 1, 1, 0],\n",
       "         [1, 1, 1, 1, 1, 0],\n",
       "         [1, 1, 1, 1, 1, 0],\n",
       "         [1, 1, 1, 1, 1, 1],\n",
       "         [1, 1, 1, 1, 1, 0],\n",
       "         [1, 1, 1, 1, 1, 0],\n",
       "         [1, 1, 1, 1, 1, 0]]),\n",
       " 'labels': tensor([3, 3, 3, 2, 2, 2, 2, 2, 2, 2, 1, 1, 3, 3, 4, 2, 2, 4, 2, 2, 3, 3, 3, 3,\n",
       "         1, 1, 3, 2, 3, 3, 3, 2])}"
      ]
     },
     "execution_count": 4,
     "metadata": {},
     "output_type": "execute_result"
    }
   ],
   "source": [
    "from torch.utils.data import Dataset, DataLoader\n",
    "import random\n",
    "\n",
    "class VowelCountDataset(Dataset):\n",
    "    def __init__(self, names, tokenizer, max_length=32):\n",
    "        self.names = names\n",
    "        self.tokenizer = tokenizer\n",
    "        self.max_length = max_length\n",
    "        self.labels = [min(count_vowels(name), 10) for name in names]  # Cap at 10\n",
    "    \n",
    "    def __len__(self):\n",
    "        return len(self.names)\n",
    "    \n",
    "    def __getitem__(self, idx):\n",
    "        name = self.names[idx]\n",
    "        label = self.labels[idx]\n",
    "        \n",
    "        # Tokenize the name\n",
    "        text = self.tokenizer.bos_token + name + self.tokenizer.eos_token\n",
    "        \n",
    "        return {\n",
    "            'text': text,\n",
    "            'label': label,\n",
    "            'name': name  # For debugging\n",
    "        }\n",
    "    \n",
    "    def collate_fn(self, batch):\n",
    "        texts = [item['text'] for item in batch]\n",
    "        labels = torch.tensor([item['label'] for item in batch])\n",
    "        \n",
    "        # Tokenize and pad\n",
    "        inputs = self.tokenizer(\n",
    "            texts,\n",
    "            padding=True,\n",
    "            truncation=True,\n",
    "            max_length=self.max_length,\n",
    "            return_tensors=\"pt\"\n",
    "        )\n",
    "        \n",
    "        return {\n",
    "            'input_ids': inputs['input_ids'],\n",
    "            'attention_mask': inputs['attention_mask'],\n",
    "            'labels': labels\n",
    "        }\n",
    "\n",
    "# Split data\n",
    "random.seed(123)\n",
    "random.shuffle(data)\n",
    "\n",
    "n1 = int(0.8 * len(data))\n",
    "n2 = int(0.9 * len(data))\n",
    "\n",
    "train_data = data[:n1]\n",
    "dev_data = data[n1:n2]\n",
    "test_data = data[n2:]\n",
    "\n",
    "print(f\"Train: {len(train_data)}, Dev: {len(dev_data)}, Test: {len(test_data)}\")\n",
    "\n",
    "# Create datasets\n",
    "train_dataset = VowelCountDataset(train_data, tokenizer)\n",
    "dev_dataset = VowelCountDataset(dev_data, tokenizer)\n",
    "test_dataset = VowelCountDataset(test_data, tokenizer)\n",
    "\n",
    "# Create dataloaders\n",
    "train_loader = DataLoader(train_dataset, batch_size=32, shuffle=True, collate_fn=train_dataset.collate_fn)\n",
    "dev_loader = DataLoader(dev_dataset, batch_size=32, shuffle=False, collate_fn=dev_dataset.collate_fn)\n",
    "test_loader = DataLoader(test_dataset, batch_size=32, shuffle=False, collate_fn=test_dataset.collate_fn)\n",
    "\n",
    "next(train_loader.__iter__())"
   ]
  },
  {
   "cell_type": "markdown",
   "metadata": {},
   "source": [
    "## Examine the label distribution"
   ]
  },
  {
   "cell_type": "code",
   "execution_count": 5,
   "metadata": {},
   "outputs": [
    {
     "data": {
      "image/png": "[encoded data removed]",
      "text/plain": [
       "<Figure size 1000x600 with 1 Axes>"
      ]
     },
     "metadata": {},
     "output_type": "display_data"
    },
    {
     "name": "stdout",
     "output_type": "stream",
     "text": [
      "Vowels 0: 96 names (0.4%)\n",
      "Vowels 1: 2435 names (9.5%)\n",
      "Vowels 2: 9942 names (38.8%)\n",
      "Vowels 3: 9238 names (36.0%)\n",
      "Vowels 4: 3360 names (13.1%)\n",
      "Vowels 5: 474 names (1.8%)\n",
      "Vowels 6: 61 names (0.2%)\n",
      "Vowels 7: 19 names (0.1%)\n",
      "Vowels 8: 1 names (0.0%)\n",
      "Vowels 9: 0 names (0.0%)\n",
      "Vowels 10+: 0 names (0.0%)\n"
     ]
    }
   ],
   "source": [
    "import matplotlib.pyplot as plt\n",
    "from collections import Counter\n",
    "\n",
    "# Count label distribution in training data\n",
    "train_labels = [min(count_vowels(name), 10) for name in train_data]\n",
    "label_counts = Counter(train_labels)\n",
    "\n",
    "# Plot distribution\n",
    "plt.figure(figsize=(10, 6))\n",
    "labels = list(range(11))\n",
    "counts = [label_counts.get(i, 0) for i in labels]\n",
    "plt.bar(labels, counts)\n",
    "plt.xlabel('Number of Vowels')\n",
    "plt.ylabel('Count')\n",
    "plt.title('Distribution of Vowel Counts in Training Data')\n",
    "plt.xticks(labels, [str(i) if i < 10 else '10+' for i in labels])\n",
    "plt.show()\n",
    "\n",
    "for i in range(11):\n",
    "    count = label_counts.get(i, 0)\n",
    "    print(f\"Vowels {i if i < 10 else '10+'}: {count} names ({count/len(train_data)*100:.1f}%)\")"
   ]
  },
  {
   "cell_type": "markdown",
   "metadata": {},
   "source": [
    "### LM with a classifier head"
   ]
  },
  {
   "cell_type": "code",
   "execution_count": null,
   "metadata": {},
   "outputs": [],
   "source": [
    "class LMClassifier(nn.Module):\n",
    "    def __init__(self, base_model, num_classes=11):\n",
    "        super().__init__()\n",
    "        self.base_model = base_model\n",
    "        self.num_classes = num_classes\n",
    "        self.hidden_size = base_model.config.hidden_size\n",
    "        self.classifier = nn.Linear(self.hidden_size,  num_classes)\n",
    "\n",
    "    def _last_token_hidden(self, hidden_states, attention_mask):\n",
    "        # Find the position of the last non-padding token\n",
    "        if attention_mask is not None:\n",
    "            seq_lengths = attention_mask.sum(dim=1) - 1\n",
    "            batch_size = hidden_states.size(0)\n",
    "            last_hidden = hidden_states[torch.arange(batch_size), seq_lengths]\n",
    "        else:\n",
    "            last_hidden = hidden_states[:, -1, :]  # Last token\n",
    "        return last_hidden\n",
    "\n",
    "    def forward(self, input_ids, attention_mask=None):\n",
    "        outputs = self.base_model(\n",
    "            input_ids,\n",
    "            attention_mask=attention_mask,\n",
    "            output_hidden_states=True\n",
    "        )\n",
    "        hs = outputs.hidden_states[-1]  # (batch_size, seq_len, hidden_size)\n",
    "        h_last = self._last_token_hidden(hs, attention_mask)\n",
    "        logits = self.classifier(h_last)\n",
    "        return logits\n"
   ]
  },
  {
   "cell_type": "markdown",
   "metadata": {},
   "source": [
    "## Training and eval code"
   ]
  },
  {
   "cell_type": "code",
   "execution_count": 7,
   "metadata": {},
   "outputs": [],
   "source": [
    "import torch.optim as optim\n",
    "from tqdm import tqdm\n",
    "\n",
    "def train_epoch(model, loss_fn, dataloader, optimizer, device):\n",
    "    model.train()\n",
    "    total_loss = 0\n",
    "    correct = 0\n",
    "    total = 0\n",
    "    \n",
    "    progress_bar = tqdm(dataloader, desc=\"Training\")\n",
    "    for batch_idx, batch in enumerate(progress_bar):\n",
    "        input_ids = batch['input_ids'].to(device)\n",
    "        attention_mask = batch['attention_mask'].to(device)\n",
    "        labels = batch['labels'].to(device)\n",
    "        \n",
    "        optimizer.zero_grad()\n",
    "        \n",
    "        logits = model(input_ids, attention_mask=attention_mask, labels=labels)\n",
    "        loss = loss_fn(logits, labels)\n",
    "        \n",
    "        loss.backward()\n",
    "        optimizer.step()\n",
    "        \n",
    "        total_loss += loss.item()\n",
    "        \n",
    "        # Calculate accuracy\n",
    "        predictions = torch.argmax(logits, dim=-1)\n",
    "        correct += (predictions == labels).sum().item()\n",
    "        total += labels.size(0)\n",
    "        \n",
    "        # Update progress bar with running metrics\n",
    "        avg_loss = total_loss / (batch_idx + 1)\n",
    "        accuracy = correct / total\n",
    "        progress_bar.set_postfix({\n",
    "            'batch_loss': f'{loss.item():.4f}',\n",
    "            'avg_loss': f'{avg_loss:.4f}', \n",
    "            'batch_acc': f'{(predictions == labels).sum().item()/labels.size(0)}',\n",
    "            'avg_acc': f'{accuracy:.4f}'\n",
    "        })\n",
    "    \n",
    "    avg_loss = total_loss / len(dataloader)\n",
    "    accuracy = correct / total\n",
    "    return avg_loss, accuracy\n",
    "\n",
    "def evaluate(model, loss_fn, dataloader, device):\n",
    "    model.eval()\n",
    "    total_loss = 0\n",
    "    correct = 0\n",
    "    total = 0\n",
    "    \n",
    "    with torch.no_grad():\n",
    "        for batch in tqdm(dataloader, desc=\"Evaluating\"):\n",
    "            input_ids = batch['input_ids'].to(device)\n",
    "            attention_mask = batch['attention_mask'].to(device)\n",
    "            labels = batch['labels'].to(device)\n",
    "            \n",
    "            logits = model(input_ids, attention_mask=attention_mask, labels=labels)\n",
    "            loss = loss_fn(logits, labels)\n",
    "            \n",
    "            total_loss += loss.item()\n",
    "            \n",
    "            predictions = torch.argmax(logits, dim=-1)\n",
    "            correct += (predictions == labels).sum().item()\n",
    "            total += labels.size(0)\n",
    "    \n",
    "    avg_loss = total_loss / len(dataloader)\n",
    "    accuracy = correct / total\n",
    "    return avg_loss, accuracy\n",
    "\n",
    "# Training hyperparameters\n",
    "device = torch.device('cuda' if torch.cuda.is_available() else 'cpu')"
   ]
  },
  {
   "cell_type": "markdown",
   "metadata": {},
   "source": [
    "## Run the fine-tuning"
   ]
  },
  {
   "cell_type": "code",
   "execution_count": 8,
   "metadata": {},
   "outputs": [
    {
     "name": "stdout",
     "output_type": "stream",
     "text": [
      "Trainable parameters: 134,522,507\n",
      "\n",
      "Fine-tuning entire model\n",
      "==================================================\n"
     ]
    },
    {
     "name": "stderr",
     "output_type": "stream",
     "text": [
      "huggingface/tokenizers: The current process just got forked, after parallelism has already been used. Disabling parallelism to avoid deadlocks...\n",
      "To disable this warning, you can either:\n",
      "\t- Avoid using `tokenizers` before the fork if possible\n",
      "\t- Explicitly set the environment variable TOKENIZERS_PARALLELISM=(true | false)\n",
      "Training: 100%|██████████| 801/801 [05:30<00:00,  2.43it/s, batch_loss=0.2800, avg_loss=0.6852, batch_acc=0.9615384615384616, avg_acc=0.7433]\n",
      "Evaluating: 100%|██████████| 101/101 [00:08<00:00, 11.51it/s]\n"
     ]
    },
    {
     "name": "stdout",
     "output_type": "stream",
     "text": [
      "Epoch 1/2\n",
      "  Train Loss: 0.6852, Train Acc: 0.7433\n",
      "  Val Loss: 0.1599, Val Acc: 0.9603\n"
     ]
    },
    {
     "name": "stderr",
     "output_type": "stream",
     "text": [
      "Training: 100%|██████████| 801/801 [05:37<00:00,  2.37it/s, batch_loss=0.0826, avg_loss=0.1021, batch_acc=0.9615384615384616, avg_acc=0.9726]\n",
      "Evaluating: 100%|██████████| 101/101 [00:09<00:00, 10.81it/s]"
     ]
    },
    {
     "name": "stdout",
     "output_type": "stream",
     "text": [
      "Epoch 2/2\n",
      "  Train Loss: 0.1021, Train Acc: 0.9726\n",
      "  Val Loss: 0.1014, Val Acc: 0.9716\n"
     ]
    },
    {
     "name": "stderr",
     "output_type": "stream",
     "text": [
      "\n"
     ]
    }
   ],
   "source": [
    "MAX_VOWELS=11\n",
    "\n",
    "model =LMClassifier(base_model, num_classes=MAX_VOWELS)\n",
    "model = model.to(device)\n",
    "print(f\"Trainable parameters: {sum(p.numel() for p in model.parameters() if p.requires_grad):,}\")\n",
    "\n",
    "learning_rate = 1e-5\n",
    "num_epochs = 2\n",
    "\n",
    "optimizer = optim.Adam(model.parameters(), lr=learning_rate)\n",
    "scheduler = optim.lr_scheduler.CosineAnnealingLR(optimizer, T_max=num_epochs)\n",
    "loss_fn = nn.CrossEntropyLoss()\n",
    "\n",
    "print(\"\\nFine-tuning entire model\")\n",
    "print(\"=\"*50)\n",
    "\n",
    "for epoch in range(num_epochs):\n",
    "    train_loss, train_acc = train_epoch(model, loss_fn, train_loader, optimizer, device)\n",
    "    val_loss, val_acc = evaluate(model, loss_fn, dev_loader, device)\n",
    "    \n",
    "    print(f\"Epoch {epoch+1}/{num_epochs}\")\n",
    "    print(f\"  Train Loss: {train_loss:.4f}, Train Acc: {train_acc:.4f}\")\n",
    "    print(f\"  Val Loss: {val_loss:.4f}, Val Acc: {val_acc:.4f}\")\n",
    "    \n",
    "    scheduler.step()"
   ]
  },
  {
   "cell_type": "markdown",
   "metadata": {},
   "source": [
    "## Evaluate on test set"
   ]
  },
  {
   "cell_type": "code",
   "execution_count": 9,
   "metadata": {},
   "outputs": [
    {
     "name": "stderr",
     "output_type": "stream",
     "text": [
      "Evaluating: 100%|██████████| 101/101 [00:08<00:00, 11.24it/s]"
     ]
    },
    {
     "name": "stdout",
     "output_type": "stream",
     "text": [
      "Test Loss: 0.1049\n",
      "Test Accuracy: 0.9685\n"
     ]
    },
    {
     "name": "stderr",
     "output_type": "stream",
     "text": [
      "\n"
     ]
    }
   ],
   "source": [
    "test_loss, test_acc = evaluate(model, loss_fn, test_loader, device)\n",
    "print(f\"Test Loss: {test_loss:.4f}\")\n",
    "print(f\"Test Accuracy: {test_acc:.4f}\")"
   ]
  },
  {
   "cell_type": "markdown",
   "metadata": {},
   "source": [
    "## Confusion Matrix"
   ]
  },
  {
   "cell_type": "code",
   "execution_count": 10,
   "metadata": {},
   "outputs": [
    {
     "data": {
      "image/png": "[encoded data removed]",
      "text/plain": [
       "<Figure size 1200x1000 with 2 Axes>"
      ]
     },
     "metadata": {},
     "output_type": "display_data"
    },
    {
     "name": "stdout",
     "output_type": "stream",
     "text": [
      "Class 0: 0.000 (10 samples)\n",
      "Class 1: 0.984 (249 samples)\n",
      "Class 2: 0.984 (1251 samples)\n",
      "Class 3: 0.986 (1173 samples)\n",
      "Class 4: 0.929 (452 samples)\n",
      "Class 5: 0.864 (59 samples)\n",
      "Class 6: 0.000 (8 samples)\n",
      "Class 7: 0.000 (2 samples)\n"
     ]
    }
   ],
   "source": [
    "import numpy as np\n",
    "from sklearn.metrics import confusion_matrix\n",
    "import seaborn as sns\n",
    "\n",
    "# Collect predictions and labels\n",
    "model.eval()\n",
    "all_predictions = []\n",
    "all_labels = []\n",
    "\n",
    "with torch.no_grad():\n",
    "    for batch in test_loader:\n",
    "        input_ids = batch['input_ids'].to(device)\n",
    "        attention_mask = batch['attention_mask'].to(device)\n",
    "        labels = batch['labels'].to(device)\n",
    "        \n",
    "        logits = model(input_ids, attention_mask=attention_mask)\n",
    "        predictions = torch.argmax(logits, dim=-1)\n",
    "        \n",
    "        all_predictions.extend(predictions.cpu().numpy())\n",
    "        all_labels.extend(labels.cpu().numpy())\n",
    "\n",
    "# Create confusion matrix with all possible labels (0-10)\n",
    "cm = confusion_matrix(all_labels, all_predictions, labels=list(range(11)))\n",
    "\n",
    "# Plot confusion matrix\n",
    "plt.figure(figsize=(12, 10))\n",
    "sns.heatmap(cm, annot=True, fmt='d', cmap='Blues', \n",
    "            xticklabels=[str(i) if i < 10 else '10+' for i in range(11)],\n",
    "            yticklabels=[str(i) if i < 10 else '10+' for i in range(11)])\n",
    "plt.xlabel('Predicted')\n",
    "plt.ylabel('Actual')\n",
    "plt.title('Confusion Matrix for Vowel Count Classification')\n",
    "plt.show()\n",
    "\n",
    "# Per-class accuracy\n",
    "for i in range(11):\n",
    "    if cm[i].sum() > 0:\n",
    "        class_acc = cm[i, i] / cm[i].sum()\n",
    "        print(f\"Class {i if i < 10 else '10+'}: {class_acc:.3f} ({cm[i].sum()} samples)\")"
   ]
  },
  {
   "cell_type": "markdown",
   "metadata": {},
   "source": [
    "## Example predictions"
   ]
  },
  {
   "cell_type": "code",
   "execution_count": 11,
   "metadata": {},
   "outputs": [
    {
     "name": "stdout",
     "output_type": "stream",
     "text": [
      "Name\t\tActual\tPredicted\tCorrect\n",
      "==================================================\n",
      "emma        \t2\t2\t\t✓\n",
      "olivia      \t4\t4\t\t✓\n",
      "noah        \t2\t2\t\t✓\n",
      "william     \t3\t3\t\t✓\n",
      "isabella    \t4\t4\t\t✓\n",
      "james       \t2\t2\t\t✓\n",
      "charlotte   \t3\t3\t\t✓\n",
      "benjamin    \t3\t3\t\t✓\n",
      "mia         \t2\t2\t\t✓\n",
      "theodore    \t4\t4\t\t✓\n",
      "xyz         \t0\t1\t\t✗\n",
      "bcd         \t0\t1\t\t✗\n",
      "aeiou       \t5\t4\t\t✗\n",
      "rhythm      \t0\t1\t\t✗\n",
      "sky         \t0\t1\t\t✗\n"
     ]
    }
   ],
   "source": [
    "def predict_vowel_count(model, name, tokenizer, device):\n",
    "    \"\"\"Predict the number of vowels in a name.\"\"\"\n",
    "    model.eval()\n",
    "    \n",
    "    text = tokenizer.bos_token + name + tokenizer.eos_token\n",
    "    inputs = tokenizer(text, return_tensors=\"pt\", padding=True, truncation=True, max_length=32)\n",
    "    \n",
    "    input_ids = inputs['input_ids'].to(device)\n",
    "    attention_mask = inputs['attention_mask'].to(device)\n",
    "    \n",
    "    with torch.no_grad():\n",
    "        logits = model(input_ids, attention_mask=attention_mask)\n",
    "        prediction = torch.argmax(logits, dim=-1).item()\n",
    "    \n",
    "    return prediction\n",
    "\n",
    "# Test on some examples\n",
    "test_names = [\n",
    "    'emma', 'olivia', 'noah', 'william', 'isabella',\n",
    "    'james', 'charlotte', 'benjamin', 'mia', 'theodore',\n",
    "    'xyz', 'bcd', 'aeiou', 'rhythm', 'sky'\n",
    "]\n",
    "\n",
    "print(\"Name\\t\\tActual\\tPredicted\\tCorrect\")\n",
    "print(\"=\"*50)\n",
    "\n",
    "for name in test_names:\n",
    "    actual = min(count_vowels(name), 10)\n",
    "    predicted = predict_vowel_count(model, name, tokenizer, device)\n",
    "    correct = \"✓\" if actual == predicted else \"✗\"\n",
    "    print(f\"{name:12}\\t{actual}\\t{predicted}\\t\\t{correct}\")"
   ]
  },
  {
   "cell_type": "code",
   "execution_count": 12,
   "metadata": {},
   "outputs": [
    {
     "name": "stdout",
     "output_type": "stream",
     "text": [
      "Errors: 9 / 100\n",
      "\n",
      "Some misclassified examples:\n",
      "Name\t\tActual\tPredicted\n",
      "===================================\n",
      "anthony     \t2\t3\n",
      "million     \t3\t2\n",
      "sherly      \t1\t2\n",
      "sylvester   \t2\t3\n",
      "esequiel    \t5\t4\n",
      "aaradhya    \t4\t3\n",
      "brynn       \t0\t1\n",
      "taliesin    \t4\t3\n",
      "aceion      \t4\t3\n"
     ]
    }
   ],
   "source": [
    "# Find examples where the model made mistakes\n",
    "model.eval()\n",
    "errors = []\n",
    "correct_examples = []\n",
    "\n",
    "with torch.no_grad():\n",
    "    for i in range(min(250, len(test_data))):\n",
    "        name = test_data[i]\n",
    "        actual = min(count_vowels(name), 10)\n",
    "        predicted = predict_vowel_count(model, name, tokenizer, device)\n",
    "        \n",
    "        if actual != predicted:\n",
    "            errors.append((name, actual, predicted))\n",
    "        else:\n",
    "            correct_examples.append((name, actual))\n",
    "\n",
    "print(f\"Errors: {len(errors)} / 100\")\n",
    "print(\"\\nSome misclassified examples:\")\n",
    "print(\"Name\\t\\tActual\\tPredicted\")\n",
    "print(\"=\"*35)\n",
    "\n",
    "for name, actual, predicted in errors[:15]:\n",
    "    print(f\"{name:12}\\t{actual}\\t{predicted}\")"
   ]
  },
  {
   "cell_type": "code",
   "execution_count": null,
   "metadata": {},
   "outputs": [],
   "source": []
  }
 ],
 "metadata": {
  "kernelspec": {
   "display_name": "anlp",
   "language": "python",
   "name": "python3"
  },
  "language_info": {
   "codemirror_mode": {
    "name": "ipython",
    "version": 3
   },
   "file_extension": ".py",
   "mimetype": "text/x-python",
   "name": "python",
   "nbconvert_exporter": "python",
   "pygments_lexer": "ipython3",
   "version": "3.10.18"
  }
 },
 "nbformat": 4,
 "nbformat_minor": 4
}
