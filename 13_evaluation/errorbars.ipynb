{
 "cells": [
  {
   "cell_type": "markdown",
   "id": "b63k23jwy8p",
   "metadata": {},
   "source": [
    "# Statistical Significance and Error Bars\n",
    "\n",
    "Lecture 13 | CMU ANLP Fall 2025 | Instructor: Sean Welleck\n",
    "\n",
    "Basics of evaluating model performance with confidence intervals and statistical significance testing."
   ]
  },
  {
   "cell_type": "code",
   "execution_count": 1,
   "id": "0a1e7ad8",
   "metadata": {},
   "outputs": [],
   "source": [
    "import numpy as np\n",
    "import matplotlib.pyplot as plt\n",
    "from scipy import stats\n",
    "\n",
    "np.random.seed(42)"
   ]
  },
  {
   "cell_type": "markdown",
   "id": "307fdda7",
   "metadata": {},
   "source": [
    "### Setup\n",
    "\n",
    "- $q_i$: question $i$\n",
    "- $s_i$: score on question $i$\n",
    "- $n$: number of evaluation questions"
   ]
  },
  {
   "cell_type": "markdown",
   "id": "dbf3b4a9",
   "metadata": {},
   "source": [
    "#### Scenario\n",
    "\n",
    "Suppose we evaluate model A and model B on HumanEval. In this case, \n",
    "\n",
    "- $s_i$ is either 0 or 1 (incorrect or correct, based on test cases passing)\n",
    "- $n$ is 164"
   ]
  },
  {
   "cell_type": "code",
   "execution_count": 6,
   "id": "606fe939",
   "metadata": {},
   "outputs": [
    {
     "data": {
      "text/plain": [
       "(array([1, 1, 1, 1, 1, 0, 1, 1, 1, 1, 1, 1, 1, 1, 1, 0, 1, 1, 1, 0, 1, 1,\n",
       "        0, 0, 1, 1, 1, 1, 0, 1, 1, 1, 1, 1, 1, 1, 1, 1, 1, 1, 1, 1, 1, 1,\n",
       "        1, 1, 1, 1, 1, 0, 1, 1, 1, 1, 1, 1, 1, 1, 1, 0, 1, 0, 1, 1, 0, 1,\n",
       "        1, 1, 1, 1, 1, 1, 1, 1, 1, 1, 1, 1, 1, 0, 1, 1, 1, 1, 1, 1, 1, 1,\n",
       "        1, 0, 1, 1, 0, 1, 1, 0, 1, 1, 1, 1, 1, 1, 0, 1, 1, 1, 1, 1, 1, 1,\n",
       "        1, 0, 1, 1, 1, 1, 1, 1, 1, 1, 1, 1, 1, 1, 1, 1, 1, 1, 1, 0, 1, 1,\n",
       "        1, 0, 1, 1, 1, 1, 1, 0, 0, 1, 1, 0, 1, 1, 1, 1, 1, 1, 0, 0, 1, 1,\n",
       "        0, 1, 1, 0, 0, 1, 1, 1, 1, 1]),\n",
       " array([1, 1, 1, 1, 1, 0, 1, 1, 1, 1, 1, 1, 1, 1, 1, 1, 0, 1, 1, 1, 1, 1,\n",
       "        1, 0, 1, 1, 1, 0, 1, 1, 1, 1, 1, 0, 1, 1, 1, 1, 1, 1, 1, 1, 1, 1,\n",
       "        1, 1, 1, 1, 0, 0, 1, 1, 1, 1, 1, 1, 1, 1, 1, 1, 1, 1, 1, 1, 1, 1,\n",
       "        1, 1, 1, 1, 1, 1, 1, 1, 1, 1, 1, 0, 1, 1, 1, 1, 1, 1, 1, 0, 1, 1,\n",
       "        1, 1, 1, 1, 1, 1, 1, 1, 1, 0, 1, 1, 0, 1, 0, 1, 1, 1, 1, 1, 1, 1,\n",
       "        1, 1, 0, 1, 1, 1, 1, 0, 1, 1, 1, 1, 1, 1, 1, 1, 1, 0, 0, 1, 1, 1,\n",
       "        1, 0, 1, 1, 1, 1, 1, 1, 1, 1, 1, 1, 1, 1, 1, 1, 1, 1, 1, 0, 1, 1,\n",
       "        1, 1, 1, 1, 1, 1, 1, 1, 1, 1]))"
      ]
     },
     "execution_count": 6,
     "metadata": {},
     "output_type": "execute_result"
    }
   ],
   "source": [
    "mu_A = 0.86\n",
    "mu_B = 0.86\n",
    "\n",
    "n = 164\n",
    "\n",
    "scores_A = np.random.binomial(1, mu_A, n)\n",
    "scores_B = np.random.binomial(1, mu_B, n)\n",
    "\n",
    "scores_A, scores_B"
   ]
  },
  {
   "cell_type": "markdown",
   "id": "19507c93",
   "metadata": {},
   "source": [
    "### Standard error and confidence intervals\n",
    "\n",
    "$$SE_{Bernoulli}=\\sqrt{\\bar s(1-\\bar s)/n}$$\n",
    "\n",
    "$$CI_{95\\%}=\\bar s \\pm 1.96\\times SE$$"
   ]
  },
  {
   "cell_type": "code",
   "execution_count": 7,
   "id": "0b795a3f",
   "metadata": {},
   "outputs": [
    {
     "data": {
      "text/plain": [
       "(np.float64(0.8414634146341463), np.float64(0.8902439024390244))"
      ]
     },
     "execution_count": 7,
     "metadata": {},
     "output_type": "execute_result"
    }
   ],
   "source": [
    "mean_A = np.mean(scores_A)\n",
    "mean_B = np.mean(scores_B)\n",
    "\n",
    "mean_A, mean_B"
   ]
  },
  {
   "cell_type": "code",
   "execution_count": 9,
   "id": "e8527ba8",
   "metadata": {},
   "outputs": [
    {
     "data": {
      "text/plain": [
       "(np.float64(0.02852071738082699), np.float64(0.024408826948108142))"
      ]
     },
     "execution_count": 9,
     "metadata": {},
     "output_type": "execute_result"
    }
   ],
   "source": [
    "se_A = np.sqrt(mean_A*(1.0-mean_A)/n)\n",
    "se_B = np.sqrt(mean_B*(1.0-mean_B)/n)\n",
    "se_A, se_B"
   ]
  },
  {
   "cell_type": "code",
   "execution_count": 10,
   "id": "b0df235a",
   "metadata": {},
   "outputs": [
    {
     "data": {
      "text/plain": [
       "((np.float64(0.7855628085677254), np.float64(0.8973640207005672)),\n",
       " (np.float64(0.8424026016207324), np.float64(0.9380852032573164)))"
      ]
     },
     "execution_count": 10,
     "metadata": {},
     "output_type": "execute_result"
    }
   ],
   "source": [
    "ci_95_A = (mean_A-1.96*se_A, mean_A+1.96*se_A)\n",
    "ci_95_B = (mean_B-1.96*se_B, mean_B+1.96*se_B)\n",
    "\n",
    "ci_95_A, ci_95_B"
   ]
  },
  {
   "cell_type": "markdown",
   "id": "0ee4190e",
   "metadata": {},
   "source": [
    "Look at the confidence intervals above; intuitively, do you think that we can conclude that one model is better than the other?"
   ]
  },
  {
   "cell_type": "markdown",
   "id": "75ef7e80",
   "metadata": {},
   "source": [
    "### Comparing models: unpaired analysis\n"
   ]
  },
  {
   "cell_type": "code",
   "execution_count": 13,
   "id": "6275c15d",
   "metadata": {},
   "outputs": [
    {
     "data": {
      "text/plain": [
       "np.float64(1.299440529053058)"
      ]
     },
     "execution_count": 13,
     "metadata": {},
     "output_type": "execute_result"
    }
   ],
   "source": [
    "mean_BA = mean_B - mean_A\n",
    "se_BA = np.sqrt(se_A**2 +se_B**2)\n",
    "\n",
    "z = mean_BA/se_BA\n",
    "z"
   ]
  },
  {
   "cell_type": "markdown",
   "id": "9f88ebce",
   "metadata": {},
   "source": [
    "<img src=\"https://www.ztable.net/wp-content/uploads/2018/11/positiveztable.png\" height=500px>"
   ]
  },
  {
   "cell_type": "code",
   "execution_count": 16,
   "id": "dd8c702d",
   "metadata": {},
   "outputs": [
    {
     "data": {
      "text/plain": [
       "np.float64(0.9031036047966683)"
      ]
     },
     "execution_count": 16,
     "metadata": {},
     "output_type": "execute_result"
    }
   ],
   "source": [
    "import scipy\n",
    "scipy.stats.norm.cdf(z)"
   ]
  },
  {
   "cell_type": "markdown",
   "id": "b5a770ed",
   "metadata": {},
   "source": [
    "Interpretation: the observed difference is `z` standard errors away from 0"
   ]
  },
  {
   "cell_type": "code",
   "execution_count": 17,
   "id": "2da72605",
   "metadata": {},
   "outputs": [
    {
     "data": {
      "text/plain": [
       "0.19379999999999997"
      ]
     },
     "execution_count": 17,
     "metadata": {},
     "output_type": "execute_result"
    }
   ],
   "source": [
    "p_z = 0.9031\n",
    "\n",
    "p = 2*(1-p_z)\n",
    "p"
   ]
  },
  {
   "cell_type": "markdown",
   "id": "3c1fa727",
   "metadata": {},
   "source": [
    "Interpretation: if the two models truly have equal performance, then there is a `p`*100\\% chance that we'd see the observed difference just due to sampling variability.\n",
    "\n",
    "Example decision rule:\n",
    "- `p < 0.05`: result is rare enough; reject the null hypothesis that the two models are equal. We say that the result is statistically significant (p = 0.05).\n",
    "- `p > 0.05`: result isn't that rare; don't reject the null hypothesis that the two models' performances are equal. The difference could be noise.\n",
    "\n",
    "In other words, `p=0.194` means that we do not have evidence that model B is actually better than model A."
   ]
  },
  {
   "cell_type": "markdown",
   "id": "62cfa0ad",
   "metadata": {},
   "source": [
    "### Comparing models: paired analysis"
   ]
  },
  {
   "cell_type": "code",
   "execution_count": 21,
   "id": "569ee5f1",
   "metadata": {},
   "outputs": [
    {
     "data": {
      "text/plain": [
       "(np.float64(0.037539607788304036), np.float64(0.03438704414581275))"
      ]
     },
     "execution_count": 21,
     "metadata": {},
     "output_type": "execute_result"
    }
   ],
   "source": [
    "mean_AB = mean_A - mean_B\n",
    "\n",
    "temp = 0\n",
    "for sa, sb in zip(scores_A, scores_B):\n",
    "    sab = sa - sb\n",
    "    temp += ((sab - mean_AB)**2)\n",
    "\n",
    "se_paired = np.sqrt(((1/(n-1))*temp)/n)\n",
    "se_BA, se_paired"
   ]
  },
  {
   "cell_type": "code",
   "execution_count": 23,
   "id": "d392a5ae",
   "metadata": {},
   "outputs": [
    {
     "data": {
      "text/plain": [
       "np.float64(1.8439760797588902)"
      ]
     },
     "execution_count": 23,
     "metadata": {},
     "output_type": "execute_result"
    }
   ],
   "source": [
    "z_paired = mean_AB/se_paired\n",
    "p_z_paired = scipy.stats.norm.cdf(z_paired)\n",
    "p_paired = 2*(1-p_z_paired)\n",
    "p_paired\n"
   ]
  },
  {
   "cell_type": "markdown",
   "id": "94b75367",
   "metadata": {},
   "source": [
    "### Effect of dataset size on standard error"
   ]
  },
  {
   "cell_type": "code",
   "execution_count": 28,
   "id": "925fdcd4",
   "metadata": {},
   "outputs": [
    {
     "data": {
      "image/png": "[encoded data removed]",
      "text/plain": [
       "<Figure size 1200x500 with 2 Axes>"
      ]
     },
     "metadata": {},
     "output_type": "display_data"
    },
    {
     "name": "stdout",
     "output_type": "stream",
     "text": [
      "n=  100: SE=0.0347\n",
      "n=  156: SE=0.0278\n",
      "n=  500: SE=0.0155\n",
      "n= 1000: SE=0.0110\n",
      "n= 2000: SE=0.0078\n",
      "n= 5000: SE=0.0049\n"
     ]
    }
   ],
   "source": [
    "observed_accuracy = 0.86\n",
    "\n",
    "dataset_sizes = [100, 156, 500, 1000, 2000, 5000]\n",
    "\n",
    "ses = [np.sqrt(observed_accuracy * (1-observed_accuracy)/n) for n in dataset_sizes]\n",
    "\n",
    "fig, (ax1, ax2) = plt.subplots(1, 2, figsize=(12, 5))\n",
    "\n",
    "# Linear scale\n",
    "ax1.plot(dataset_sizes, ses, 'o-', linewidth=2, markersize=8)\n",
    "ax1.set_xlabel('Number of questions (n)')\n",
    "ax1.set_ylabel('Standard Error')\n",
    "ax1.set_title(f'SE vs dataset size (observed accuracy = {observed_accuracy})')\n",
    "ax1.grid(True, alpha=0.3)\n",
    "\n",
    "# Log-log scale\n",
    "ax2.plot(dataset_sizes, ses, 'o-', linewidth=2, markersize=8)\n",
    "ax2.set_xlabel('Number of questions (n)')\n",
    "ax2.set_ylabel('Standard Error')\n",
    "ax2.set_title('Log-log: SE ∝ 1/√n')\n",
    "ax2.set_xscale('log')\n",
    "ax2.set_yscale('log')\n",
    "ax2.grid(True, alpha=0.3, which='both')\n",
    "\n",
    "plt.tight_layout()\n",
    "plt.show()\n",
    "\n",
    "for n, se in zip(dataset_sizes, ses):\n",
    "    print(f\"n={n:5d}: SE={se:.4f}\")"
   ]
  },
  {
   "cell_type": "code",
   "execution_count": 29,
   "id": "jvngazi7zg",
   "metadata": {},
   "outputs": [
    {
     "name": "stdout",
     "output_type": "stream",
     "text": [
      "Slope from data: -0.5000\n",
      "\n",
      "Interpretation: doubling n reduces SE by a factor of 1.414\n"
     ]
    }
   ],
   "source": [
    "# Check the slope\n",
    "log_n = np.log(dataset_sizes)\n",
    "log_se = np.log(ses)\n",
    "\n",
    "# Fit a line: log(SE) = a + b*log(n)\n",
    "slope, intercept = np.polyfit(log_n, log_se, 1)\n",
    "\n",
    "print(f\"Slope from data: {slope:.4f}\")\n",
    "print(f\"\\nInterpretation: doubling n reduces SE by a factor of {2**(-slope):.3f}\")"
   ]
  },
  {
   "cell_type": "code",
   "execution_count": null,
   "id": "8a3d9219",
   "metadata": {},
   "outputs": [],
   "source": []
  }
 ],
 "metadata": {
  "kernelspec": {
   "display_name": "anlp",
   "language": "python",
   "name": "python3"
  },
  "language_info": {
   "codemirror_mode": {
    "name": "ipython",
    "version": 3
   },
   "file_extension": ".py",
   "mimetype": "text/x-python",
   "name": "python",
   "nbconvert_exporter": "python",
   "pygments_lexer": "ipython3",
   "version": "3.10.18"
  }
 },
 "nbformat": 4,
 "nbformat_minor": 5
}
