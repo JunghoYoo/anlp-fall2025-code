{
 "cells": [
  {
   "cell_type": "markdown",
   "id": "header",
   "metadata": {},
   "source": [
    "# Categorical Sampling\n",
    "\n",
    "Lecture 9 | CMU ANLP Fall 2025 | Instructor: Sean Welleck\n",
    "\n",
    "Sampling from a categorical distribution over vocabulary tokens."
   ]
  },
  {
   "cell_type": "markdown",
   "id": "setup",
   "metadata": {},
   "source": [
    "## Setup\n",
    "\n",
    "Given a probability distribution over tokens, compute the cumulative distribution function (CDF)."
   ]
  },
  {
   "cell_type": "code",
   "execution_count": 1,
   "id": "cf48e08b",
   "metadata": {},
   "outputs": [
    {
     "data": {
      "text/plain": [
       "array([0.1, 0.3, 0.4, 0.8, 1. ])"
      ]
     },
     "execution_count": 1,
     "metadata": {},
     "output_type": "execute_result"
    }
   ],
   "source": [
    "import numpy as np\n",
    "\n",
    "vocab = ['a', 'b', 'c', 'd', 'e']\n",
    "probs = np.array(\n",
    "        [0.1, 0.2, 0.1, 0.4, 0.2]\n",
    ")\n",
    "cdf = probs.cumsum()\n",
    "cdf"
   ]
  },
  {
   "cell_type": "code",
   "execution_count": 2,
   "id": "ef7db492",
   "metadata": {},
   "outputs": [
    {
     "data": {
      "text/plain": [
       "0.19169709790148137"
      ]
     },
     "execution_count": 2,
     "metadata": {},
     "output_type": "execute_result"
    }
   ],
   "source": [
    "np.random.random()"
   ]
  },
  {
   "cell_type": "markdown",
   "id": "linear",
   "metadata": {},
   "source": [
    "## Linear search\n",
    "\n",
    "Sample a uniform random number and find the first CDF value that exceeds it."
   ]
  },
  {
   "cell_type": "code",
   "execution_count": 3,
   "id": "1d921cec",
   "metadata": {},
   "outputs": [
    {
     "data": {
      "text/plain": [
       "'d'"
      ]
     },
     "execution_count": 3,
     "metadata": {},
     "output_type": "execute_result"
    }
   ],
   "source": [
    "def sample_linear(cdf):\n",
    "    r = np.random.random()\n",
    "    for i in range(len(cdf)):\n",
    "        if cdf[i] >= r:\n",
    "            return i\n",
    "\n",
    "idx = sample_linear(cdf)\n",
    "next_token = vocab[idx]\n",
    "next_token"
   ]
  },
  {
   "cell_type": "markdown",
   "id": "binary",
   "metadata": {},
   "source": [
    "## Binary search\n",
    "\n",
    "More efficient O(log n) sampling for large vocabularies."
   ]
  },
  {
   "cell_type": "code",
   "execution_count": 4,
   "id": "9c323319",
   "metadata": {},
   "outputs": [
    {
     "name": "stdout",
     "output_type": "stream",
     "text": [
      "Sampled token: c\n"
     ]
    }
   ],
   "source": [
    "def sample_binary_search(cdf):\n",
    "    r = np.random.random()\n",
    "    left, right = 0, len(cdf) - 1\n",
    "    \n",
    "    while left < right:\n",
    "        mid = (left + right) // 2\n",
    "        if cdf[mid] < r:\n",
    "            left = mid + 1\n",
    "        else:\n",
    "            right = mid\n",
    "    \n",
    "    return left\n",
    "\n",
    "# Test binary search sampling\n",
    "idx = sample_binary_search(cdf)\n",
    "next_token = vocab[idx]\n",
    "print(f\"Sampled token: {next_token}\")"
   ]
  },
  {
   "cell_type": "markdown",
   "id": "empirical",
   "metadata": {},
   "source": [
    "## Empirical distribution\n",
    "\n",
    "Sampling approximates the true distribution."
   ]
  },
  {
   "cell_type": "code",
   "execution_count": 5,
   "id": "ec2mk261uis",
   "metadata": {},
   "outputs": [
    {
     "data": {
      "image/png": "[encoded data removed]",
      "text/plain": [
       "<Figure size 1200x400 with 2 Axes>"
      ]
     },
     "metadata": {},
     "output_type": "display_data"
    },
    {
     "name": "stdout",
     "output_type": "stream",
     "text": [
      "Token counts from 100 samples:\n",
      "  a: 8 (0.08)\n",
      "  b: 21 (0.21)\n",
      "  c: 12 (0.12)\n",
      "  d: 40 (0.40)\n",
      "  e: 19 (0.19)\n"
     ]
    }
   ],
   "source": [
    "import matplotlib.pyplot as plt\n",
    "\n",
    "# Sample 100 tokens and plot the empirical distribution\n",
    "n_samples = 100\n",
    "samples = [sample_binary_search(cdf) for _ in range(n_samples)]\n",
    "\n",
    "# Count occurrences\n",
    "counts = np.zeros(len(vocab))\n",
    "for s in samples:\n",
    "    counts[s] += 1\n",
    "\n",
    "# Create bar plot comparing true vs empirical distribution\n",
    "fig, (ax1, ax2) = plt.subplots(1, 2, figsize=(12, 4))\n",
    "\n",
    "# True distribution\n",
    "ax1.bar(vocab, probs, color='blue', alpha=0.7)\n",
    "ax1.set_title('True Distribution')\n",
    "ax1.set_xlabel('Token')\n",
    "ax1.set_ylabel('Probability')\n",
    "ax1.set_ylim([0, 0.5])\n",
    "\n",
    "# Empirical distribution\n",
    "empirical_probs = counts / n_samples\n",
    "ax2.bar(vocab, empirical_probs, color='green', alpha=0.7)\n",
    "ax2.set_title(f'Empirical Distribution (n={n_samples})')\n",
    "ax2.set_xlabel('Token')\n",
    "ax2.set_ylabel('Probability')\n",
    "ax2.set_ylim([0, 0.5])\n",
    "\n",
    "plt.tight_layout()\n",
    "plt.show()\n",
    "\n",
    "print(\"Token counts from 100 samples:\")\n",
    "for token, count in zip(vocab, counts):\n",
    "    print(f\"  {token}: {int(count)} ({count/n_samples:.2f})\")"
   ]
  },
  {
   "cell_type": "markdown",
   "id": "pytorch",
   "metadata": {},
   "source": [
    "## PyTorch\n",
    "\n",
    "Categorical sampling is implemented in common libraries like PyTorch."
   ]
  },
  {
   "cell_type": "code",
   "execution_count": 6,
   "id": "a5nlvbb56mu",
   "metadata": {},
   "outputs": [
    {
     "data": {
      "text/plain": [
       "tensor([3, 3, 1, 3, 1, 2, 3, 2, 0, 1, 3, 3, 3, 0, 3, 3, 2, 3, 3, 1, 0, 2, 3, 1,\n",
       "        3, 3, 3, 2, 0, 4, 3, 0, 2, 3, 4, 3, 2, 2, 4, 3, 2, 1, 1, 0, 4, 3, 3, 3,\n",
       "        3, 2, 3, 4, 3, 3, 4, 4, 2, 4, 4, 4, 3, 3, 4, 1, 4, 1, 3, 3, 4, 1, 3, 3,\n",
       "        1, 1, 3, 3, 4, 3, 3, 1, 1, 3, 3, 3, 3, 1, 0, 4, 1, 0, 3, 3, 4, 2, 3, 3,\n",
       "        1, 3, 3, 4])"
      ]
     },
     "execution_count": 6,
     "metadata": {},
     "output_type": "execute_result"
    }
   ],
   "source": [
    "import torch\n",
    "\n",
    "# Sample 100 times using PyTorch\n",
    "torch_probs = torch.tensor(probs)\n",
    "categorical = torch.distributions.Categorical(probs=torch_probs)\n",
    "categorical.sample((100,))"
   ]
  },
  {
   "cell_type": "code",
   "execution_count": null,
   "id": "6c252fa3",
   "metadata": {},
   "outputs": [],
   "source": []
  }
 ],
 "metadata": {
  "kernelspec": {
   "display_name": "anlp",
   "language": "python",
   "name": "python3"
  },
  "language_info": {
   "codemirror_mode": {
    "name": "ipython",
    "version": 3
   },
   "file_extension": ".py",
   "mimetype": "text/x-python",
   "name": "python",
   "nbconvert_exporter": "python",
   "pygments_lexer": "ipython3",
   "version": "3.10.18"
  }
 },
 "nbformat": 4,
 "nbformat_minor": 5
}
