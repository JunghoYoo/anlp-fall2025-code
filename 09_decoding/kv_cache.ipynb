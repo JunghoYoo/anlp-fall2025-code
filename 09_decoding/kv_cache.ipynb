{
 "cells": [
  {
   "cell_type": "markdown",
   "metadata": {},
   "source": [
    "# Decoding with Key-Value Cache\n",
    "\n",
    "Lecture 9 | CMU ANLP Fall 2025 | Instructor: Sean Welleck\n",
    "\n",
    "This notebook shows key-value (KV) caching for transformer language models."
   ]
  },
  {
   "cell_type": "markdown",
   "metadata": {},
   "source": [
    "### Motivation\n",
    "\n",
    "During autoregressive generation, transformers generate tokens one at a time:\n",
    "- Token 1: Compute attention for token 1\n",
    "- Token 2: Compute attention for tokens 1-2\n",
    "- Token 3: Compute attention for tokens 1-3\n",
    "- ...\n",
    "\n",
    "**Problem**: Without caching, we recompute the keys and values for all previous tokens at each step."
   ]
  },
  {
   "cell_type": "code",
   "execution_count": 1,
   "metadata": {},
   "outputs": [],
   "source": [
    "import torch\n",
    "import torch.nn as nn\n",
    "import numpy as np\n",
    "import matplotlib.pyplot as plt\n",
    "from time import time\n",
    "import warnings\n",
    "warnings.filterwarnings('ignore')"
   ]
  },
  {
   "cell_type": "markdown",
   "metadata": {},
   "source": [
    "### Transformer Block with Optional KV Cache"
   ]
  },
  {
   "cell_type": "code",
   "execution_count": 2,
   "metadata": {},
   "outputs": [],
   "source": [
    "class BlockWithCache(nn.Module):\n",
    "    \"\"\"Transformer block with optional key-value caching.\"\"\"\n",
    "    \n",
    "    def __init__(self, d_model, nhead, dim_ff=64, max_len=128):\n",
    "        super().__init__()\n",
    "        assert d_model % nhead == 0\n",
    "        \n",
    "        self.d_model = d_model\n",
    "        self.nhead = nhead\n",
    "        self.d_k = d_model // nhead\n",
    "        \n",
    "        # Attention projections\n",
    "        self.q_proj = nn.Linear(d_model, d_model)\n",
    "        self.k_proj = nn.Linear(d_model, d_model)\n",
    "        self.v_proj = nn.Linear(d_model, d_model)\n",
    "        self.o_proj = nn.Linear(d_model, d_model)\n",
    "        \n",
    "        # Feed-forward\n",
    "        self.ff1 = nn.Linear(d_model, dim_ff)\n",
    "        self.ff2 = nn.Linear(dim_ff, d_model)\n",
    "        self.ln1 = nn.LayerNorm(d_model)\n",
    "        self.ln2 = nn.LayerNorm(d_model)\n",
    "        self.act = nn.ReLU()\n",
    "        \n",
    "        # Cache for keys and values\n",
    "        self.cache_k = None\n",
    "        self.cache_v = None\n",
    "        \n",
    "    def forward(self, x, use_cache=False):\n",
    "        B, T, D = x.size()\n",
    "        \n",
    "        # Pre-normalization\n",
    "        x_norm = self.ln1(x)\n",
    "        \n",
    "        # Compute Q, K, V\n",
    "        Q = self.q_proj(x_norm)\n",
    "        \n",
    "        if use_cache and self.cache_k is not None:\n",
    "            # Only compute K, V for the new token(s)\n",
    "            K_new = self.k_proj(x_norm)\n",
    "            V_new = self.v_proj(x_norm)\n",
    "            \n",
    "            # Append to cache\n",
    "            K = torch.cat([self.cache_k, K_new], dim=1)\n",
    "            V = torch.cat([self.cache_v, V_new], dim=1)\n",
    "            \n",
    "            # Update cache\n",
    "            self.cache_k = K\n",
    "            self.cache_v = V\n",
    "            \n",
    "        else:\n",
    "            # Compute K, V for all tokens\n",
    "            K = self.k_proj(x_norm)\n",
    "            V = self.v_proj(x_norm)\n",
    "            \n",
    "            if use_cache:\n",
    "                # Initialize cache\n",
    "                self.cache_k = K\n",
    "                self.cache_v = V\n",
    "            \n",
    "        # Reshape for multi-head attention\n",
    "        T_k = K.size(1)  # Total sequence length including cache\n",
    "        Q = Q.view(B, T, self.nhead, self.d_k).transpose(1, 2)\n",
    "        K = K.view(B, T_k, self.nhead, self.d_k).transpose(1, 2)\n",
    "        V = V.view(B, T_k, self.nhead, self.d_k).transpose(1, 2)\n",
    "        \n",
    "        # Scaled dot-product attention\n",
    "        scores = torch.matmul(Q, K.transpose(-2, -1)) / (self.d_k ** 0.5)\n",
    "        \n",
    "        # Apply causal mask\n",
    "        if T == 1 and use_cache:\n",
    "            # During generation with cache, we only process single token\n",
    "            pass  # No mask needed for single token with cache\n",
    "        else:\n",
    "            # During initial forward pass or without cache\n",
    "            mask = torch.triu(torch.ones(T, T_k, device=x.device), diagonal=1 + (T_k - T)).bool()\n",
    "            scores = scores.masked_fill(mask.unsqueeze(0).unsqueeze(0), float('-inf'))\n",
    "        \n",
    "        # Apply softmax and compute weighted values\n",
    "        attn_weights = torch.softmax(scores, dim=-1)\n",
    "        context = torch.matmul(attn_weights, V)\n",
    "        \n",
    "        # Reshape and project output\n",
    "        context = context.transpose(1, 2).contiguous().view(B, T, D)\n",
    "        output = self.o_proj(context)\n",
    "        \n",
    "        # Residual connection\n",
    "        x = x + output\n",
    "        \n",
    "        # Feed-forward with residual\n",
    "        x_norm = self.ln2(x)\n",
    "        ff_out = self.ff2(self.act(self.ff1(x_norm)))\n",
    "        x = x + ff_out\n",
    "        \n",
    "        return x\n",
    "    \n",
    "    def clear_cache(self):\n",
    "        \"\"\"Clear the key-value cache.\"\"\"\n",
    "        self.cache_k = None\n",
    "        self.cache_v = None"
   ]
  },
  {
   "cell_type": "markdown",
   "metadata": {},
   "source": [
    "## Transformer Language Model"
   ]
  },
  {
   "cell_type": "code",
   "execution_count": 3,
   "metadata": {},
   "outputs": [],
   "source": [
    "class TransformerLM(nn.Module):\n",
    "    \"\"\"Transformer Language Model with optional caching.\"\"\"\n",
    "    \n",
    "    def __init__(self, vocab_size, d_model, nhead, num_layers, dim_ff, max_len=128):\n",
    "        super().__init__()\n",
    "        self.embedding = nn.Embedding(vocab_size, d_model)\n",
    "        self.pos_encoder = nn.Embedding(max_len, d_model)\n",
    "        self.blocks = nn.ModuleList([\n",
    "            BlockWithCache(d_model, nhead, dim_ff, max_len) for _ in range(num_layers)\n",
    "        ])\n",
    "        self.ln_f = nn.LayerNorm(d_model)\n",
    "        self.fc = nn.Linear(d_model, vocab_size)\n",
    "        self.d_model = d_model\n",
    "        self.max_len = max_len\n",
    "\n",
    "    def forward(self, x, use_cache=False, past_length=0):\n",
    "        B, T = x.size()\n",
    "        \n",
    "        # Position encoding accounts for cached positions\n",
    "        pos = torch.arange(past_length, past_length + T, device=x.device)\n",
    "        pos = pos.unsqueeze(0).expand(B, -1)\n",
    "        \n",
    "        x = self.embedding(x) + self.pos_encoder(pos)\n",
    "        \n",
    "        for block in self.blocks:\n",
    "            x = block(x, use_cache=use_cache)\n",
    "        \n",
    "        x = self.ln_f(x)\n",
    "        logits = self.fc(x)\n",
    "        \n",
    "        return logits\n",
    "    \n",
    "    def clear_cache(self):\n",
    "        \"\"\"Clear cache in all blocks.\"\"\"\n",
    "        for block in self.blocks:\n",
    "            block.clear_cache()\n",
    "    \n",
    "    @torch.no_grad()\n",
    "    def generate(self, context, max_length=20, temperature=1.0, use_cache=True):\n",
    "        \"\"\"Generate text with optional caching.\"\"\"\n",
    "        self.eval()\n",
    "        self.clear_cache()\n",
    "        \n",
    "        # Start with context\n",
    "        if len(context) == 0:\n",
    "            context = [0]  # Start token\n",
    "        \n",
    "        generated = context.copy()\n",
    "        \n",
    "        for i in range(max_length):\n",
    "            if use_cache and i > 0:\n",
    "                # With cache: only process the new token\n",
    "                x = torch.tensor([[generated[-1]]], dtype=torch.long)\n",
    "                past_length = len(generated) - 1\n",
    "            else:\n",
    "                # Without cache or first iteration: process all tokens\n",
    "                x = torch.tensor([generated], dtype=torch.long)\n",
    "                past_length = 0\n",
    "            \n",
    "            # Get predictions\n",
    "            logits = self(x, use_cache=use_cache, past_length=past_length)\n",
    "            logits = logits[0, -1] / temperature\n",
    "            \n",
    "            # Sample next token\n",
    "            probs = torch.softmax(logits, dim=-1)\n",
    "            next_token = torch.multinomial(probs, 1).item()\n",
    "            \n",
    "            generated.append(next_token)\n",
    "        \n",
    "        return generated"
   ]
  },
  {
   "cell_type": "markdown",
   "metadata": {},
   "source": [
    "## Create Model"
   ]
  },
  {
   "cell_type": "code",
   "execution_count": 4,
   "metadata": {},
   "outputs": [
    {
     "name": "stdout",
     "output_type": "stream",
     "text": [
      "Model parameters: 581348\n"
     ]
    }
   ],
   "source": [
    "# Create model with random weights (no training needed for demonstration)\n",
    "vocab_size = 100\n",
    "model = TransformerLM(\n",
    "    vocab_size=vocab_size,\n",
    "    d_model=64,\n",
    "    nhead=4,\n",
    "    num_layers=16,\n",
    "    dim_ff=128,\n",
    "    max_len=512\n",
    ")\n",
    "\n",
    "print(f\"Model parameters: {sum(p.numel() for p in model.parameters())}\")"
   ]
  },
  {
   "cell_type": "markdown",
   "metadata": {},
   "source": [
    "## Performance Comparison"
   ]
  },
  {
   "cell_type": "code",
   "execution_count": 5,
   "metadata": {},
   "outputs": [
    {
     "name": "stdout",
     "output_type": "stream",
     "text": [
      "Sequence length: 512\n",
      "\n",
      "Without Cache:\n",
      "  Time: 5.6287s\n",
      "\n",
      "With Cache:\n",
      "  Time: 0.8062s\n",
      "\n",
      "Speedup: 6.98x\n"
     ]
    }
   ],
   "source": [
    "def compare_generation(model, context=[], max_length=20):\n",
    "    \"\"\"Compare generation with and without cache.\"\"\"\n",
    "    \n",
    "    # Generate WITHOUT cache\n",
    "    model.clear_cache()\n",
    "    start_time = time()\n",
    "    generated_no_cache = model.generate(context, max_length=max_length, use_cache=False)\n",
    "    time_no_cache = time() - start_time\n",
    "    \n",
    "    # Generate WITH cache\n",
    "    model.clear_cache()\n",
    "    start_time = time()\n",
    "    generated_with_cache = model.generate(context, max_length=max_length, use_cache=True)\n",
    "    time_with_cache = time() - start_time\n",
    "    \n",
    "    print(f\"Sequence length: {max_length}\")\n",
    "    print(f\"\\nWithout Cache:\")\n",
    "    print(f\"  Time: {time_no_cache:.4f}s\")\n",
    "    print(f\"\\nWith Cache:\")\n",
    "    print(f\"  Time: {time_with_cache:.4f}s\")\n",
    "    print(f\"\\nSpeedup: {time_no_cache/time_with_cache:.2f}x\")\n",
    "\n",
    "# Test with different lengths\n",
    "compare_generation(model, context=[], max_length=512)"
   ]
  },
  {
   "cell_type": "markdown",
   "metadata": {},
   "source": [
    "## Generation Time Scaling"
   ]
  },
  {
   "cell_type": "code",
   "execution_count": 6,
   "metadata": {},
   "outputs": [
    {
     "data": {
      "image/png": "[encoded data removed]",
      "text/plain": [
       "<Figure size 800x500 with 1 Axes>"
      ]
     },
     "metadata": {},
     "output_type": "display_data"
    },
    {
     "name": "stdout",
     "output_type": "stream",
     "text": [
      "\n",
      "Speedup factors:\n",
      "  Length 16: 1.61x\n",
      "  Length 32: 1.57x\n",
      "  Length 64: 1.73x\n",
      "  Length 96: 2.08x\n",
      "  Length 128: 2.38x\n",
      "  Length 256: 3.73x\n",
      "  Length 512: 7.39x\n"
     ]
    }
   ],
   "source": [
    "def benchmark_generation_time(model):\n",
    "    \"\"\"Benchmark generation time at different sequence lengths.\"\"\"\n",
    "    lengths = [16, 32, 64, 96, 128, 256, 512]\n",
    "    times_no_cache = []\n",
    "    times_with_cache = []\n",
    "    \n",
    "    for length in lengths:\n",
    "        # Without cache\n",
    "        model.clear_cache()\n",
    "        start = time()\n",
    "        _ = model.generate([], max_length=length, use_cache=False)\n",
    "        times_no_cache.append(time() - start)\n",
    "        \n",
    "        # With cache\n",
    "        model.clear_cache()\n",
    "        start = time()\n",
    "        _ = model.generate([], max_length=length, use_cache=True)\n",
    "        times_with_cache.append(time() - start)\n",
    "    \n",
    "    return lengths, times_no_cache, times_with_cache\n",
    "\n",
    "lengths, t_no_cache, t_cache = benchmark_generation_time(model)\n",
    "\n",
    "# Plot the results\n",
    "plt.figure(figsize=(8, 5))\n",
    "plt.plot(lengths, t_no_cache, 'o-', label='Without Cache', linewidth=2, markersize=8)\n",
    "plt.plot(lengths, t_cache, 's-', label='With Cache', linewidth=2, markersize=8)\n",
    "plt.xlabel('Sequence Length', fontsize=12)\n",
    "plt.ylabel('Generation Time (seconds)', fontsize=12)\n",
    "plt.title('Generation Time: Cache vs No Cache', fontsize=14)\n",
    "plt.legend(fontsize=11)\n",
    "plt.grid(True, alpha=0.3)\n",
    "plt.show()\n",
    "\n",
    "# Print speedup factors\n",
    "print(\"\\nSpeedup factors:\")\n",
    "for l, t1, t2 in zip(lengths, t_no_cache, t_cache):\n",
    "    speedup = t1/t2\n",
    "    print(f\"  Length {l}: {speedup:.2f}x\")"
   ]
  }
 ],
 "metadata": {
  "kernelspec": {
   "display_name": "Python 3",
   "language": "python",
   "name": "python3"
  },
  "language_info": {
   "codemirror_mode": {
    "name": "ipython",
    "version": 3
   },
   "file_extension": ".py",
   "mimetype": "text/x-python",
   "name": "python",
   "nbconvert_exporter": "python",
   "pygments_lexer": "ipython3",
   "version": "3.8.0"
  }
 },
 "nbformat": 4,
 "nbformat_minor": 4
}
